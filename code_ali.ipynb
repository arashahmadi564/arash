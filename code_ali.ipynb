{
 "cells": [
  {
   "cell_type": "code",
   "execution_count": 2,
   "id": "cc323dbd-65c2-408c-87bf-781bbabef7a4",
   "metadata": {},
   "outputs": [],
   "source": [
    "import numpy as np\n",
    "from PIL import Image"
   ]
  },
  {
   "cell_type": "code",
   "execution_count": 3,
   "id": "c288de99-0d85-405e-9fe2-da2bde749bfa",
   "metadata": {},
   "outputs": [],
   "source": [
    "#conda install -c anaconda pillow\n",
    "from scipy.optimize import curve_fit\n",
    "import matplotlib.pyplot as plt"
   ]
  },
  {
   "cell_type": "code",
   "execution_count": 7,
   "id": "9293e6f7-c8f3-4bc2-8701-3dda34cef21d",
   "metadata": {},
   "outputs": [
    {
     "name": "stdout",
     "output_type": "stream",
     "text": [
      "(512, 512)\n"
     ]
    }
   ],
   "source": [
    "im = Image.open('pic.tif')\n",
    "h,w = np.shape(im)\n",
    "tiffarray = np.zeros((h,w,im.n_frames))\n",
    "for i in range(im.n_frames):\n",
    "   im.seek(i)\n",
    "   tiffarray[:,:,i] = np.array(im)\n",
    "expim = tiffarray.astype(np.double);\n",
    "print(expim[:,:,0].shape)\n"
   ]
  },
  {
   "cell_type": "code",
   "execution_count": 122,
   "id": "96ac6f95-0391-4029-b0dd-1ccd79f8ec68",
   "metadata": {},
   "outputs": [
    {
     "data": {
      "text/plain": [
       "(512, 512)"
      ]
     },
     "execution_count": 122,
     "metadata": {},
     "output_type": "execute_result"
    }
   ],
   "source": [
    "imarray = np.array(im)\n",
    "imarray.shape"
   ]
  },
  {
   "cell_type": "code",
   "execution_count": 123,
   "id": "81f3432c-ad54-44b0-8a63-fa15743ee8c5",
   "metadata": {},
   "outputs": [],
   "source": [
    "a = np.argsort(imarray)"
   ]
  },
  {
   "cell_type": "code",
   "execution_count": 124,
   "id": "af69db44-a265-43af-b9c2-74f938a704b8",
   "metadata": {},
   "outputs": [
    {
     "data": {
      "text/plain": [
       "65535"
      ]
     },
     "execution_count": 124,
     "metadata": {},
     "output_type": "execute_result"
    }
   ],
   "source": [
    "imarray[318,111] = 0\n",
    "np.max(imarray)"
   ]
  },
  {
   "cell_type": "code",
   "execution_count": 125,
   "id": "1a886ba8-c37c-4976-aec1-e57a8b8defee",
   "metadata": {},
   "outputs": [],
   "source": [
    "index = np.where(imarray==np.max(imarray))"
   ]
  },
  {
   "cell_type": "code",
   "execution_count": 126,
   "id": "3c893692-676e-4d3d-b1b3-c1e53436b17b",
   "metadata": {},
   "outputs": [
    {
     "data": {
      "text/plain": [
       "(array([381, 381, 381, 381, 382, 382, 382, 382, 382, 382, 383, 383, 383,\n",
       "        383, 383, 383, 383, 384, 384, 384, 384, 384, 384, 384, 384, 385,\n",
       "        385, 385, 385, 385, 385, 385, 385, 386, 386, 386, 386, 386, 386,\n",
       "        386, 386, 387, 387, 387, 387, 387, 387, 388, 388, 388, 388]),\n",
       " array([295, 296, 297, 298, 294, 295, 296, 297, 298, 299, 294, 295, 296,\n",
       "        297, 298, 299, 300, 293, 294, 295, 296, 297, 298, 299, 300, 293,\n",
       "        294, 295, 296, 297, 298, 299, 300, 293, 294, 295, 296, 297, 298,\n",
       "        299, 300, 294, 295, 296, 297, 298, 299, 295, 296, 297, 298]))"
      ]
     },
     "execution_count": 126,
     "metadata": {},
     "output_type": "execute_result"
    }
   ],
   "source": [
    "index\n"
   ]
  },
  {
   "cell_type": "code",
   "execution_count": 71,
   "id": "fce3122e-aad8-4ce9-ba8d-b4deef3cfc0d",
   "metadata": {},
   "outputs": [],
   "source": [
    "imcut = expim[0:300,0:300,:]"
   ]
  },
  {
   "cell_type": "code",
   "execution_count": 72,
   "id": "6bebfa73-3b54-46b0-8b4b-e18e9a258166",
   "metadata": {},
   "outputs": [
    {
     "data": {
      "text/plain": [
       "(300, 300, 301)"
      ]
     },
     "execution_count": 72,
     "metadata": {},
     "output_type": "execute_result"
    }
   ],
   "source": [
    "imcut.shape"
   ]
  },
  {
   "cell_type": "code",
   "execution_count": 16,
   "id": "dbde0efa-dc25-4a5b-aaae-958e896e455d",
   "metadata": {},
   "outputs": [],
   "source": [
    "def fit(x,y,x0, y0,sigma):\n",
    "    g = (1/(2*np.pi*sigma**2))*np.exp(-((x-x0)**2+(y-y0)**2)/(2*sigma**2))\n",
    "    return g"
   ]
  },
  {
   "cell_type": "code",
   "execution_count": 17,
   "id": "e828e3be-f7db-4e0f-84ee-068b76f9f56d",
   "metadata": {},
   "outputs": [],
   "source": [
    "x, y = np.meshgrid(np.linspace(0,300,300),np.linspace(0,300,300))"
   ]
  },
  {
   "cell_type": "code",
   "execution_count": 181,
   "id": "7bb49bef-c1d7-4fde-ba08-efb22cccd38c",
   "metadata": {},
   "outputs": [
    {
     "data": {
      "text/plain": [
       "array([1401., 1452., 1562., 1219., 1072., 1642., 1332., 1346., 1629.,\n",
       "       1298., 1241., 1361., 1234., 1301., 1034., 1068., 1266., 1160.,\n",
       "        831., 1605., 1120., 1151., 1258., 1586., 1095., 1085., 1208.,\n",
       "       1280., 1531., 1310.,  999., 1171., 1075., 1808., 1376., 1520.,\n",
       "       1274., 1413., 1123., 1449., 1057., 1199., 1432., 1809., 1464.,\n",
       "       1104., 1577., 1060., 1216., 2197., 1895., 1171., 1541., 1428.,\n",
       "       1168., 1550.,  974., 1296., 1039., 1009., 1290., 1425.,  714.,\n",
       "       1620., 1484., 1364., 1204.,  917., 1119., 1584.,  940., 1612.,\n",
       "       1099.,  854., 1228., 1069.,  775.,  940.,  996., 1028., 1323.,\n",
       "       1453.,  951.,  918., 1746.,  978.,  954., 1071., 1203.,  613.,\n",
       "       1078., 1249., 1145., 1026., 1039., 1109.,  981., 1499., 1119.,\n",
       "       1507., 1051., 1775.,  729., 1019., 1364.,  946., 1465., 1154.,\n",
       "       1015., 1114., 1009., 1179.,  923., 1637., 1252.,  957., 1585.,\n",
       "       1111., 1121.,  787., 1286., 1364., 1239.,  862., 1258., 1060.,\n",
       "       1511., 1229., 1155., 1129., 1633., 1263., 1366.,  933., 1165.,\n",
       "       1070.,  952., 1049.,  950.,  928., 1076., 1409., 1204.,  758.,\n",
       "       1311., 1172., 1148.,  853., 1183., 1521.,  969.,  724., 1547.,\n",
       "        758., 1364., 1328., 1130.,  847., 1531.,  978., 1144.,  688.,\n",
       "       1158., 1059., 1261.,  837., 1387., 1137., 1689., 1033.,  996.,\n",
       "       1081., 2146.,  977., 1262., 1498., 1401., 1165.,  704.,  897.,\n",
       "        966., 1275., 1355.,  676.,  858., 1206., 1904.,  874., 1237.,\n",
       "       1115.,  944., 1158.,  994.,  794., 1237., 1024., 1146., 1334.,\n",
       "       1721.,  910., 1144.,  981., 1155., 1241., 1161.,  720., 1056.,\n",
       "       1309.,  647.,  944.,  881., 1245.,  890.,  934.,  940., 1454.,\n",
       "       1668.,  798.,  904., 1089., 1386., 1133., 1336., 1300., 1275.,\n",
       "       1331.,  849., 1165., 1212.,  725., 1124., 1422., 1101., 1336.,\n",
       "       1663.,  932., 1367., 1317.,  985., 1500., 1257., 1292., 1287.,\n",
       "       1622., 1146., 1169., 1232., 1627., 1378., 1860.,  946., 1428.,\n",
       "       1125.,  723., 1489.,  821., 1174., 1792., 1029., 1230., 1171.,\n",
       "       1330., 1340., 1342., 1722.,  987.,  953., 1205., 1395., 1911.,\n",
       "       1721., 1220., 1457., 1374.,  697., 1216., 1636., 1097.,  760.,\n",
       "        884., 1025., 1433., 1077., 1312., 1008., 1472., 1187., 1794.,\n",
       "       1253., 1132., 2206.,  980., 1111., 1133., 1269., 1236., 1330.,\n",
       "        835., 1362., 1276.,  999.])"
      ]
     },
     "execution_count": 181,
     "metadata": {},
     "output_type": "execute_result"
    }
   ],
   "source": [
    "z = imcut\n",
    "z[79,199]\n",
    "#np.where(z == np.max(z))"
   ]
  },
  {
   "cell_type": "code",
   "execution_count": 182,
   "id": "417cb7cd-773d-4962-ae8d-acdea7c23ec8",
   "metadata": {},
   "outputs": [
    {
     "data": {
      "text/plain": [
       "<matplotlib.image.AxesImage at 0x7fb3c4487050>"
      ]
     },
     "execution_count": 182,
     "metadata": {},
     "output_type": "execute_result"
    },
    {
     "data": {
      "image/png": "[encoded data removed]",
      "text/plain": [
       "<Figure size 432x288 with 1 Axes>"
      ]
     },
     "metadata": {
      "needs_background": "light"
     },
     "output_type": "display_data"
    }
   ],
   "source": [
    "plt.imshow(z[:,:,52], cmap =\"Greens\", alpha = 0.7, \n",
    "           interpolation ='bilinear')"
   ]
  },
  {
   "cell_type": "code",
   "execution_count": 115,
   "id": "d703b80f-2c06-4209-bf3e-d3500f38ee9e",
   "metadata": {},
   "outputs": [],
   "source": [
    "y = np.ones(20)"
   ]
  },
  {
   "cell_type": "code",
   "execution_count": 57,
   "id": "030a760b-1c13-4f90-bb71-280654685d9e",
   "metadata": {},
   "outputs": [],
   "source": [
    "x = np.linspace(0,300,300)"
   ]
  },
  {
   "cell_type": "code",
   "execution_count": 58,
   "id": "46b4e488-b013-4eb9-8e2f-bc5556ea3c90",
   "metadata": {},
   "outputs": [],
   "source": [
    "def func(x,a,b,x0):\n",
    "    return a*np.exp(-b*(x-x0)**2)"
   ]
  },
  {
   "cell_type": "code",
   "execution_count": 201,
   "id": "fd4912d6-e177-495d-a04c-7300026a8c59",
   "metadata": {},
   "outputs": [
    {
     "name": "stdout",
     "output_type": "stream",
     "text": [
      "(array([199]), array([82]))\n",
      "(array([199]), array([82]))\n",
      "(array([199]), array([80]))\n",
      "(array([198]), array([84]))\n",
      "(array([198]), array([86]))\n",
      "(array([198, 199]), array([86, 86]))\n",
      "(array([197, 197, 197, 198, 198, 199, 199, 200]), array([84, 85, 86, 86, 87, 86, 87, 87]))\n",
      "(array([191]), array([82]))\n"
     ]
    },
    {
     "name": "stderr",
     "output_type": "stream",
     "text": [
      "/home/arash/anaconda3/envs/netket2/lib/python3.7/site-packages/ipykernel_launcher.py:2: RuntimeWarning: overflow encountered in exp\n",
      "  \n"
     ]
    },
    {
     "name": "stdout",
     "output_type": "stream",
     "text": [
      "(array([190]), array([74]))\n",
      "(array([191]), array([76]))\n",
      "(array([188]), array([69]))\n",
      "(array([191]), array([74]))\n",
      "(array([192]), array([73]))\n",
      "(array([192]), array([71]))\n",
      "(array([193]), array([69]))\n",
      "(array([195]), array([67]))\n",
      "(array([193]), array([68]))\n",
      "(array([195]), array([68]))\n",
      "(array([193]), array([70]))\n",
      "(array([194]), array([69]))\n",
      "(array([194]), array([69]))\n",
      "(array([193]), array([68]))\n",
      "(array([192]), array([69]))\n",
      "(array([190]), array([77]))\n",
      "(array([188]), array([77]))\n",
      "(array([191]), array([80]))\n",
      "(array([190]), array([78]))\n",
      "(array([187]), array([75]))\n",
      "(array([189]), array([79]))\n",
      "(array([186]), array([75]))\n",
      "(array([182]), array([71]))\n",
      "(array([180]), array([73]))\n",
      "(array([181]), array([69]))\n",
      "(array([183]), array([72]))\n",
      "(array([184]), array([70]))\n",
      "(array([181]), array([70]))\n",
      "(array([176]), array([70]))\n",
      "(array([176]), array([68]))\n",
      "(array([177]), array([63]))\n",
      "(array([180]), array([64]))\n",
      "(array([180]), array([65]))\n",
      "(array([184]), array([64]))\n",
      "(array([182]), array([64]))\n",
      "(array([181]), array([65]))\n",
      "(array([179]), array([69]))\n",
      "(array([180]), array([66]))\n",
      "(array([180]), array([70]))\n",
      "(array([175]), array([67]))\n",
      "(array([176]), array([68]))\n",
      "(array([176]), array([76]))\n"
     ]
    }
   ],
   "source": [
    "\n",
    "#opt = np.zeros((300,3,50))\n",
    "x00 = []\n",
    "x= np.linspace(0,300,300)\n",
    "\n",
    "for n in range (50):\n",
    "    index = np.where(imcut[:,:,n] == np.max(imcut[:,:,n]))\n",
    "    print(index)\n",
    "    x000 = []\n",
    "    for i in range (index[0][0]-5,index[0][0]+5):\n",
    "        #index2 = np.where(imcut[:,i,n] == np.max(imcut[:,i,n]))\n",
    "        z = imcut[i,:,n]\n",
    "        z = z/np.max(z)\n",
    "        popt, _ = curve_fit(func, x,z)\n",
    "        x000.append(popt[2])\n",
    "    x00.append(np.mean(np.array(x000)))"
   ]
  },
  {
   "cell_type": "code",
   "execution_count": 196,
   "id": "5f62162d-4c87-4f57-97b2-f4492bea224a",
   "metadata": {
    "tags": []
   },
   "outputs": [
    {
     "name": "stdout",
     "output_type": "stream",
     "text": [
      "0\n",
      "1\n",
      "2\n",
      "3\n",
      "4\n",
      "5\n",
      "6\n",
      "7\n",
      "8\n",
      "9\n",
      "10\n",
      "11\n"
     ]
    },
    {
     "name": "stderr",
     "output_type": "stream",
     "text": [
      "/home/arash/anaconda3/envs/netket2/lib/python3.7/site-packages/ipykernel_launcher.py:2: RuntimeWarning: overflow encountered in exp\n",
      "  \n"
     ]
    },
    {
     "name": "stdout",
     "output_type": "stream",
     "text": [
      "12\n",
      "13\n",
      "14\n",
      "15\n",
      "16\n",
      "17\n",
      "18\n",
      "19\n",
      "20\n",
      "21\n",
      "22\n",
      "23\n",
      "24\n",
      "25\n",
      "26\n",
      "27\n",
      "28\n",
      "29\n",
      "30\n",
      "31\n",
      "32\n",
      "33\n",
      "34\n",
      "35\n",
      "36\n",
      "37\n",
      "38\n",
      "39\n",
      "40\n",
      "41\n",
      "42\n",
      "43\n",
      "44\n",
      "45\n",
      "46\n",
      "47\n",
      "48\n",
      "49\n"
     ]
    }
   ],
   "source": [
    "y0 = []\n",
    "x= np.linspace(0,40,40)\n",
    "for n in range (50):\n",
    "    index = np.where(imcut[:,:,n] == np.max(imcut[:,:,n]))\n",
    "    #print(index[1][0])\n",
    "    print(n)\n",
    "    y00 = []\n",
    "    for i in range (index[1][0]-5,index[1][0]+5):\n",
    "        index2 = np.where(imcut[:,i,n] == np.max(imcut[:,i,n]))\n",
    "        z = imcut[index2[0][0]-20:index2[0][0]+20,i,n]\n",
    "        z = z/np.max(z)\n",
    "        popt, _ = curve_fit(func, x,z)\n",
    "        y00.append(popt[2]/2+index2[0][0])\n",
    "    y0.append(np.mean(np.array(y00)))\n"
   ]
  },
  {
   "cell_type": "code",
   "execution_count": 162,
   "id": "9ef790ba-82e7-4edb-b65c-2810f884fde0",
   "metadata": {},
   "outputs": [
    {
     "name": "stderr",
     "output_type": "stream",
     "text": [
      "/home/arash/anaconda3/envs/netket2/lib/python3.7/site-packages/ipykernel_launcher.py:2: RuntimeWarning: overflow encountered in exp\n",
      "  \n"
     ]
    },
    {
     "ename": "RuntimeError",
     "evalue": "Optimal parameters not found: Number of calls to function has reached maxfev = 800.",
     "output_type": "error",
     "traceback": [
      "\u001b[0;31m---------------------------------------------------------------------------\u001b[0m",
      "\u001b[0;31mRuntimeError\u001b[0m                              Traceback (most recent call last)",
      "\u001b[0;32m<ipython-input-162-c34f516b03b5>\u001b[0m in \u001b[0;36m<module>\u001b[0;34m\u001b[0m\n\u001b[1;32m      2\u001b[0m     \u001b[0mz\u001b[0m \u001b[0;34m=\u001b[0m \u001b[0mimcut\u001b[0m\u001b[0;34m[\u001b[0m\u001b[0;34m:\u001b[0m\u001b[0;34m,\u001b[0m\u001b[0mi\u001b[0m\u001b[0;34m,\u001b[0m\u001b[0;36m7\u001b[0m\u001b[0;34m]\u001b[0m\u001b[0;34m\u001b[0m\u001b[0;34m\u001b[0m\u001b[0m\n\u001b[1;32m      3\u001b[0m     \u001b[0mz\u001b[0m \u001b[0;34m=\u001b[0m \u001b[0mz\u001b[0m\u001b[0;34m/\u001b[0m\u001b[0mnp\u001b[0m\u001b[0;34m.\u001b[0m\u001b[0mmax\u001b[0m\u001b[0;34m(\u001b[0m\u001b[0mz\u001b[0m\u001b[0;34m)\u001b[0m\u001b[0;34m\u001b[0m\u001b[0;34m\u001b[0m\u001b[0m\n\u001b[0;32m----> 4\u001b[0;31m     \u001b[0mpopt\u001b[0m\u001b[0;34m,\u001b[0m \u001b[0m_\u001b[0m \u001b[0;34m=\u001b[0m \u001b[0mcurve_fit\u001b[0m\u001b[0;34m(\u001b[0m\u001b[0mfunc\u001b[0m\u001b[0;34m,\u001b[0m \u001b[0mx\u001b[0m\u001b[0;34m,\u001b[0m\u001b[0mz\u001b[0m\u001b[0;34m)\u001b[0m\u001b[0;34m\u001b[0m\u001b[0;34m\u001b[0m\u001b[0m\n\u001b[0m",
      "\u001b[0;32m~/anaconda3/envs/netket2/lib/python3.7/site-packages/scipy/optimize/minpack.py\u001b[0m in \u001b[0;36mcurve_fit\u001b[0;34m(f, xdata, ydata, p0, sigma, absolute_sigma, check_finite, bounds, method, jac, **kwargs)\u001b[0m\n\u001b[1;32m    787\u001b[0m         \u001b[0mcost\u001b[0m \u001b[0;34m=\u001b[0m \u001b[0mnp\u001b[0m\u001b[0;34m.\u001b[0m\u001b[0msum\u001b[0m\u001b[0;34m(\u001b[0m\u001b[0minfodict\u001b[0m\u001b[0;34m[\u001b[0m\u001b[0;34m'fvec'\u001b[0m\u001b[0;34m]\u001b[0m \u001b[0;34m**\u001b[0m \u001b[0;36m2\u001b[0m\u001b[0;34m)\u001b[0m\u001b[0;34m\u001b[0m\u001b[0;34m\u001b[0m\u001b[0m\n\u001b[1;32m    788\u001b[0m         \u001b[0;32mif\u001b[0m \u001b[0mier\u001b[0m \u001b[0;32mnot\u001b[0m \u001b[0;32min\u001b[0m \u001b[0;34m[\u001b[0m\u001b[0;36m1\u001b[0m\u001b[0;34m,\u001b[0m \u001b[0;36m2\u001b[0m\u001b[0;34m,\u001b[0m \u001b[0;36m3\u001b[0m\u001b[0;34m,\u001b[0m \u001b[0;36m4\u001b[0m\u001b[0;34m]\u001b[0m\u001b[0;34m:\u001b[0m\u001b[0;34m\u001b[0m\u001b[0;34m\u001b[0m\u001b[0m\n\u001b[0;32m--> 789\u001b[0;31m             \u001b[0;32mraise\u001b[0m \u001b[0mRuntimeError\u001b[0m\u001b[0;34m(\u001b[0m\u001b[0;34m\"Optimal parameters not found: \"\u001b[0m \u001b[0;34m+\u001b[0m \u001b[0merrmsg\u001b[0m\u001b[0;34m)\u001b[0m\u001b[0;34m\u001b[0m\u001b[0;34m\u001b[0m\u001b[0m\n\u001b[0m\u001b[1;32m    790\u001b[0m     \u001b[0;32melse\u001b[0m\u001b[0;34m:\u001b[0m\u001b[0;34m\u001b[0m\u001b[0;34m\u001b[0m\u001b[0m\n\u001b[1;32m    791\u001b[0m         \u001b[0;31m# Rename maxfev (leastsq) to max_nfev (least_squares), if specified.\u001b[0m\u001b[0;34m\u001b[0m\u001b[0;34m\u001b[0m\u001b[0;34m\u001b[0m\u001b[0m\n",
      "\u001b[0;31mRuntimeError\u001b[0m: Optimal parameters not found: Number of calls to function has reached maxfev = 800."
     ]
    }
   ],
   "source": [
    "\n",
    "for i in range (82,83):\n",
    "    z = imcut[:,i,7]\n",
    "    z = z/np.max(z)\n",
    "    popt, _ = curve_fit(func, x,z)"
   ]
  },
  {
   "cell_type": "code",
   "execution_count": 207,
   "id": "b6ce4bc6-bb9e-4092-856f-304e858d9379",
   "metadata": {},
   "outputs": [
    {
     "name": "stderr",
     "output_type": "stream",
     "text": [
      "/home/arash/anaconda3/envs/netket2/lib/python3.7/site-packages/ipykernel_launcher.py:2: RuntimeWarning: overflow encountered in exp\n",
      "  \n"
     ]
    },
    {
     "data": {
      "text/plain": [
       "[<matplotlib.lines.Line2D at 0x7fb3c4602450>]"
      ]
     },
     "execution_count": 207,
     "metadata": {},
     "output_type": "execute_result"
    },
    {
     "data": {
      "image/png": "[encoded data removed]",
      "text/plain": [
       "<Figure size 432x288 with 1 Axes>"
      ]
     },
     "metadata": {
      "needs_background": "light"
     },
     "output_type": "display_data"
    }
   ],
   "source": [
    "#print(z[:,:].shape)\n",
    "#plt.scatter(x,imcut[:,82,0])\n",
    "#plt.plot(x,func(x, *popt))\n",
    "x= np.linspace(0,50,50)\n",
    "popt, _ = curve_fit(func, x ,imcut[170:220,82,7])\n",
    "#plt.plot(x,func(x, *popt))\n",
    "plt.plot(x00,y0)\n"
   ]
  },
  {
   "cell_type": "code",
   "execution_count": 135,
   "id": "05bf6b4e-2240-45f2-826d-79ffbbe7953f",
   "metadata": {},
   "outputs": [],
   "source": [
    "popt, _ = curve_fit(func, x,z)"
   ]
  },
  {
   "cell_type": "code",
   "execution_count": 136,
   "id": "97926427-68e6-41b4-85b6-7ab3c6625262",
   "metadata": {},
   "outputs": [
    {
     "data": {
      "text/plain": [
       "array([ 0.74587587,  0.14588237, 10.15765459])"
      ]
     },
     "execution_count": 136,
     "metadata": {},
     "output_type": "execute_result"
    }
   ],
   "source": [
    "popt"
   ]
  },
  {
   "cell_type": "code",
   "execution_count": null,
   "id": "f3131e49-960b-49f6-b99d-1705a946d123",
   "metadata": {},
   "outputs": [],
   "source": []
  }
 ],
 "metadata": {
  "kernelspec": {
   "display_name": "Python 3",
   "language": "python",
   "name": "python3"
  },
  "language_info": {
   "codemirror_mode": {
    "name": "ipython",
    "version": 3
   },
   "file_extension": ".py",
   "mimetype": "text/x-python",
   "name": "python",
   "nbconvert_exporter": "python",
   "pygments_lexer": "ipython3",
   "version": "3.7.10"
  }
 },
 "nbformat": 4,
 "nbformat_minor": 5
}
