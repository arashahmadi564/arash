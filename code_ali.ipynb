{
 "cells": [
  {
   "cell_type": "code",
   "execution_count": null,
   "id": "cc323dbd-65c2-408c-87bf-781bbabef7a4",
   "metadata": {},
   "outputs": [],
   "source": [
    "import numpy as np\n",
    "from PIL import Image\n",
    "from scipy.optimize import curve_fit  #Takes the data and a given function with unknown vairables as inout and return the variables by fitting the data with the function\n",
    "import matplotlib.pyplot as plt"
   ]
  },
  {
   "cell_type": "code",
   "execution_count": null,
   "id": "9293e6f7-c8f3-4bc2-8701-3dda34cef21d",
   "metadata": {},
   "outputs": [],
   "source": [
    "im = Image.open('pic.tif')\n",
    "h,w = np.shape(im) #convert image to an array\n",
    "# make a 3 dimentional array containing pixel values at (x,y) and frame index\n",
    "tiffarray = np.zeros((h,w,im.n_frames))\n",
    "for i in range(im.n_frames):\n",
    "   im.seek(i)\n",
    "   tiffarray[:,:,i] = np.array(im)\n",
    "expim = tiffarray.astype(np.double);\n",
    "imcut = expim[0:300,0:300,:]"
   ]
  },
  {
   "cell_type": "code",
   "execution_count": null,
   "id": "417cb7cd-773d-4962-ae8d-acdea7c23ec8",
   "metadata": {},
   "outputs": [],
   "source": [
    "plt.imshow(imcut[:,:,52], cmap =\"Greens\", alpha = 0.7, \n",
    "           interpolation ='bilinear')"
   ]
  },
  {
   "cell_type": "code",
   "execution_count": null,
   "id": "46b4e488-b013-4eb9-8e2f-bc5556ea3c90",
   "metadata": {},
   "outputs": [],
   "source": [
    "# The intensity of fluorescent dyes follows a Gaussian distribution. We fit the experimental distribution to this function to find x0 which is the central position of the Gaussian function\n",
    "def func(x,a,b,x0):\n",
    "    return a*np.exp(-b*(x-x0)**2)"
   ]
  },
  {
   "cell_type": "code",
   "execution_count": null,
   "id": "fd4912d6-e177-495d-a04c-7300026a8c59",
   "metadata": {},
   "outputs": [],
   "source": [
    "x0 = []\n",
    "x= np.linspace(0,300,300)\n",
    "\n",
    "for n in range (50):\n",
    "    index = np.where(imcut[:,:,n] == np.max(imcut[:,:,n]))\n",
    "    x000 = []\n",
    "    for i in range (index[0][0]-5,index[0][0]+5):\n",
    "        #index2 = np.where(imcut[:,i,n] == np.max(imcut[:,i,n]))\n",
    "        z = imcut[i,:,n]\n",
    "        z = z/np.max(z)\n",
    "        popt, _ = curve_fit(func, x,z)\n",
    "        x000.append(popt[2])\n",
    "    x0.append(np.mean(np.array(x000)))"
   ]
  },
  {
   "cell_type": "code",
   "execution_count": null,
   "id": "5f62162d-4c87-4f57-97b2-f4492bea224a",
   "metadata": {
    "tags": []
   },
   "outputs": [],
   "source": [
    "y0 = []\n",
    "x= np.linspace(0,40,40)\n",
    "for n in range (50):\n",
    "    index = np.where(imcut[:,:,n] == np.max(imcut[:,:,n]))\n",
    "    y00 = []\n",
    "    for i in range (index[1][0]-5,index[1][0]+5):\n",
    "        index2 = np.where(imcut[:,i,n] == np.max(imcut[:,i,n]))\n",
    "        z = imcut[index2[0][0]-20:index2[0][0]+20,i,n]\n",
    "        z = z/np.max(z)\n",
    "        popt, _ = curve_fit(func, x,z)\n",
    "        y00.append(popt[2]/2+index2[0][0])\n",
    "    y0.append(np.mean(np.array(y00)))\n"
   ]
  },
  {
   "cell_type": "code",
   "execution_count": null,
   "id": "b6ce4bc6-bb9e-4092-856f-304e858d9379",
   "metadata": {},
   "outputs": [],
   "source": [
    "x= np.linspace(0,50,50)\n",
    "plt.plot(x0,y0)\n",
    "plt.gca().invert_yaxis()\n"
   ]
  },
  {
   "cell_type": "code",
   "execution_count": null,
   "id": "8f2c998c-6e80-4eb3-a344-cbce2f56f85a",
   "metadata": {},
   "outputs": [],
   "source": [
    "# convert pixels to distance\n",
    "x0_positions=np.array(x0)*0.16\n",
    "y0_positions=np.array(y0)*0.16\n",
    "plt.plot(x0_positions,y0_positions)\n",
    "plt.gca().invert_yaxis()\n",
    "plt.xlabel(r\"Distance ($\\mu$m)\")\n",
    "plt.ylabel(r\"Distance ($\\mu$m)\")\n",
    "plt.title(\"Trajectory of a diffusing bead\")"
   ]
  },
  {
   "cell_type": "code",
   "execution_count": null,
   "id": "bfc2d3bc-01eb-4910-8910-2c19521921c8",
   "metadata": {},
   "outputs": [],
   "source": [
    "    # Calculate diffusion constant\n",
    "    r = np.sqrt(x0_positions**2 + y0_positions**2)\n",
    "    diff = np.diff(r) #this calculates r(t + dt) - r(t)\n",
    "    diff_sq = diff**2\n",
    "    MSD = np.mean(diff_sq)\n",
    "    D=MSD/(4*50*2)\n",
    "    print(format(D,'.1E')+ \" micron^2/s\")"
   ]
  },
  {
   "cell_type": "code",
   "execution_count": null,
   "id": "0569d1e3-aa1c-4722-9ae2-2a19778a9243",
   "metadata": {},
   "outputs": [],
   "source": []
  }
 ],
 "metadata": {
  "kernelspec": {
   "display_name": "Python 3 (ipykernel)",
   "language": "python",
   "name": "python3"
  },
  "language_info": {
   "codemirror_mode": {
    "name": "ipython",
    "version": 3
   },
   "file_extension": ".py",
   "mimetype": "text/x-python",
   "name": "python",
   "nbconvert_exporter": "python",
   "pygments_lexer": "ipython3",
   "version": "3.9.7"
  }
 },
 "nbformat": 4,
 "nbformat_minor": 5
}
